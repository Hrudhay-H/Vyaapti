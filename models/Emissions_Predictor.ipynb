{
  "cells": [
    {
      "cell_type": "markdown",
      "metadata": {
        "id": "oSQ7cZ7uAh2e"
      },
      "source": [
        "# 📈 Emissions Predictor – Regression Model\n",
        "\n",
        "This notebook trains a regression model to estimate CO₂ emissions per shipment."
      ]
    },
    {
      "cell_type": "code",
      "execution_count": 1,
      "metadata": {
        "id": "3nuOePpiAh2h"
      },
      "outputs": [],
      "source": [
        "import pandas as pd\n",
        "from sklearn.ensemble import RandomForestRegressor\n",
        "from sklearn.model_selection import train_test_split\n",
        "from sklearn.preprocessing import LabelEncoder\n",
        "from sklearn.metrics import mean_squared_error, mean_absolute_error\n",
        "import numpy as np"
      ]
    },
    {
      "cell_type": "code",
      "execution_count": 7,
      "metadata": {
        "id": "Ar5lbWoHAh2j"
      },
      "outputs": [],
      "source": [
        "# 📥 Load shipment and edge data\n",
        "shipments = pd.read_csv(\"shipments.csv\")\n",
        "edges = pd.read_csv(\"edges.csv\")\n",
        "\n",
        "# Merge on source/target as route identifier (simplified join)\n",
        "merged = shipments.merge(edges, left_on=[\"source\", \"target\"], right_on=[\"from_node\", \"to_node\"], how=\"left\")\n",
        "\n",
        "# Add congestion as a random factor (simulated for demo)\n",
        "merged[\"congestion\"] = np.random.choice([\"Low\", \"Medium\", \"High\"], size=len(merged))\n",
        "\n",
        "# Simulate CO2 emissions (target variable)\n",
        "merged[\"co2_kg\"] = merged[\"distance_km\"] * np.random.uniform(0.11, 0.15, size=len(merged))\n",
        "merged = merged.dropna(subset=[\"co2_kg\"])"
      ]
    },
    {
      "cell_type": "code",
      "execution_count": 8,
      "metadata": {
        "id": "Wye4VJxbAh2l"
      },
      "outputs": [],
      "source": [
        "# 🎯 Feature Engineering\n",
        "le_vehicle = LabelEncoder()\n",
        "le_congestion = LabelEncoder()\n",
        "\n",
        "merged[\"vehicle_encoded\"] = le_vehicle.fit_transform(merged[\"vehicle_type\"])\n",
        "merged[\"congestion_encoded\"] = le_congestion.fit_transform(merged[\"congestion\"])\n",
        "\n",
        "X = merged[[\"distance_km\", \"vehicle_encoded\", \"congestion_encoded\"]]\n",
        "y = merged[\"co2_kg\"]\n",
        "merged = merged.dropna(subset=[\"co2_kg\"])\n",
        "\n"
      ]
    },
    {
      "cell_type": "code",
      "execution_count": 9,
      "metadata": {
        "id": "s7xELsfLAh2m"
      },
      "outputs": [],
      "source": [
        "# 🔍 Train/Test Split and Model Training\n",
        "X_train, X_test, y_train, y_test = train_test_split(X, y, test_size=0.2, random_state=42)\n",
        "model = RandomForestRegressor(n_estimators=100, random_state=42)\n",
        "model.fit(X_train, y_train)\n",
        "predictions = model.predict(X_test)"
      ]
    },
    {
      "cell_type": "code",
      "execution_count": 11,
      "metadata": {
        "colab": {
          "base_uri": "https://localhost:8080/"
        },
        "id": "RRVheJIrAh2n",
        "outputId": "954aad4f-f702-467c-9837-ce124e2e2b3f"
      },
      "outputs": [
        {
          "output_type": "stream",
          "name": "stdout",
          "text": [
            "RMSE: 9.219545918521694\n",
            "MAE: 6.6686295979252685\n"
          ]
        }
      ],
      "source": [
        "# 📊 Evaluation\n",
        "mse = mean_squared_error(y_test, predictions)\n",
        "rmse = mse ** 0.5\n",
        "mae = mean_absolute_error(y_test, predictions)\n",
        "print(\"RMSE:\", rmse)\n",
        "print(\"MAE:\", mae)"
      ]
    }
  ],
  "metadata": {
    "kernelspec": {
      "display_name": "Python 3",
      "language": "python",
      "name": "python3"
    },
    "language_info": {
      "name": "python",
      "version": ""
    },
    "colab": {
      "provenance": []
    }
  },
  "nbformat": 4,
  "nbformat_minor": 0
}