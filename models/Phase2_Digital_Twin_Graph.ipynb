{
 "cells": [
  {
   "cell_type": "code",
   "execution_count": 2,
   "metadata": {},
   "outputs": [
    {
     "ename": "ModuleNotFoundError",
     "evalue": "No module named 'networkx'",
     "output_type": "error",
     "traceback": [
      "\u001b[1;31m---------------------------------------------------------------------------\u001b[0m",
      "\u001b[1;31mModuleNotFoundError\u001b[0m                       Traceback (most recent call last)",
      "Cell \u001b[1;32mIn[2], line 3\u001b[0m\n\u001b[0;32m      1\u001b[0m \u001b[38;5;66;03m# 📚 Imports\u001b[39;00m\n\u001b[0;32m      2\u001b[0m \u001b[38;5;28;01mimport\u001b[39;00m \u001b[38;5;21;01mpandas\u001b[39;00m \u001b[38;5;28;01mas\u001b[39;00m \u001b[38;5;21;01mpd\u001b[39;00m\n\u001b[1;32m----> 3\u001b[0m \u001b[38;5;28;01mimport\u001b[39;00m \u001b[38;5;21;01mnetworkx\u001b[39;00m \u001b[38;5;28;01mas\u001b[39;00m \u001b[38;5;21;01mnx\u001b[39;00m\n\u001b[0;32m      4\u001b[0m \u001b[38;5;28;01mimport\u001b[39;00m \u001b[38;5;21;01mmatplotlib\u001b[39;00m\u001b[38;5;21;01m.\u001b[39;00m\u001b[38;5;21;01mpyplot\u001b[39;00m \u001b[38;5;28;01mas\u001b[39;00m \u001b[38;5;21;01mplt\u001b[39;00m\n",
      "\u001b[1;31mModuleNotFoundError\u001b[0m: No module named 'networkx'"
     ]
    }
   ],
   "source": [
    "# 📚 Imports\n",
    "import pandas as pd\n",
    "import networkx as nx\n",
    "import matplotlib.pyplot as plt"
   ]
  },
  {
   "cell_type": "code",
   "execution_count": null,
   "metadata": {},
   "outputs": [],
   "source": [
    "# 📥 Load CSV Files\n",
    "nodes_df = pd.read_csv(\"nodes.csv\")\n",
    "edges_df = pd.read_csv(\"edges.csv\")\n",
    "\n",
    "print(\"✅ Nodes loaded:\", len(nodes_df))\n",
    "print(\"✅ Edges loaded:\", len(edges_df))"
   ]
  },
  {
   "cell_type": "code",
   "execution_count": null,
   "metadata": {},
   "outputs": [],
   "source": [
    "# 🧱 Build Directed Graph\n",
    "G = nx.DiGraph()\n",
    "\n",
    "# Add nodes with attributes\n",
    "for _, row in nodes_df.iterrows():\n",
    "    G.add_node(row['node_id'], type=row['node_type'], location=row['location'])\n",
    "\n",
    "# Add edges with attributes + estimated CO₂\n",
    "for _, row in edges_df.iterrows():\n",
    "    co2_kg = round(row['distance_km'] * 0.13, 2)  # Approximation\n",
    "    G.add_edge(row['from_node'], row['to_node'], \n",
    "               transport=row['transport_mode'], \n",
    "               distance=row['distance_km'], \n",
    "               delay=row['avg_delay_hr'], \n",
    "               co2_kg=co2_kg)"
   ]
  },
  {
   "cell_type": "code",
   "execution_count": null,
   "metadata": {},
   "outputs": [],
   "source": [
    "# 📊 Basic Graph Stats\n",
    "print(\"Number of Nodes:\", G.number_of_nodes())\n",
    "print(\"Number of Edges:\", G.number_of_edges())"
   ]
  },
  {
   "cell_type": "code",
   "execution_count": null,
   "metadata": {},
   "outputs": [],
   "source": [
    "# 📍 Visualize the Graph (simplified)\n",
    "plt.figure(figsize=(12, 8))\n",
    "pos = nx.spring_layout(G, seed=42)\n",
    "\n",
    "node_colors = [\"#34a853\" if G.nodes[n]['type'] == 'Warehouse' else \n",
    "               \"#4285f4\" if G.nodes[n]['type'] == 'Supplier' else \n",
    "               \"#fbbc05\" if G.nodes[n]['type'] == 'Port' else \"#ea4335\" \n",
    "               for n in G.nodes()]\n",
    "\n",
    "nx.draw_networkx(G, pos, with_labels=True, node_color=node_colors, node_size=500, font_size=8)\n",
    "plt.title(\"Digital Twin Supply Chain Graph\")\n",
    "plt.axis('off')\n",
    "plt.show()"
   ]
  }
 ],
 "metadata": {
  "kernelspec": {
   "display_name": "Python 3",
   "language": "python",
   "name": "python3"
  },
  "language_info": {
   "codemirror_mode": {
    "name": "ipython",
    "version": 3
   },
   "file_extension": ".py",
   "mimetype": "text/x-python",
   "name": "python",
   "nbconvert_exporter": "python",
   "pygments_lexer": "ipython3",
   "version": "3.12.4"
  }
 },
 "nbformat": 4,
 "nbformat_minor": 2
}
